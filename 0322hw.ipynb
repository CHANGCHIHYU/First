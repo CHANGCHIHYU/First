{
 "cells": [
  {
   "cell_type": "code",
   "execution_count": 2,
   "metadata": {},
   "outputs": [],
   "source": [
    "%matplotlib inline\n",
    "\n",
    "import matplotlib.pyplot as plt\n",
    "import numpy as np\n",
    "import pandas as pd"
   ]
  },
  {
   "cell_type": "code",
   "execution_count": 3,
   "metadata": {},
   "outputs": [],
   "source": [
    "import matplotlib as mpl"
   ]
  },
  {
   "cell_type": "code",
   "execution_count": 4,
   "metadata": {},
   "outputs": [],
   "source": [
    "df = pd.read_csv('https://data.fda.gov.tw/opendata/exportDataList.do?method=ExportData&InfoId=21&logType=2')"
   ]
  },
  {
   "cell_type": "code",
   "execution_count": 5,
   "metadata": {},
   "outputs": [
    {
     "data": {
      "text/html": [
       "<div>\n",
       "<style scoped>\n",
       "    .dataframe tbody tr th:only-of-type {\n",
       "        vertical-align: middle;\n",
       "    }\n",
       "\n",
       "    .dataframe tbody tr th {\n",
       "        vertical-align: top;\n",
       "    }\n",
       "\n",
       "    .dataframe thead th {\n",
       "        text-align: right;\n",
       "    }\n",
       "</style>\n",
       "<table border=\"1\" class=\"dataframe\">\n",
       "  <thead>\n",
       "    <tr style=\"text-align: right;\">\n",
       "      <th></th>\n",
       "      <th>年度</th>\n",
       "      <th>月份</th>\n",
       "      <th>分類</th>\n",
       "      <th>檢體名稱</th>\n",
       "      <th>農藥殘留量</th>\n",
       "      <th>抽樣衛生局</th>\n",
       "      <th>抽樣地點</th>\n",
       "    </tr>\n",
       "  </thead>\n",
       "  <tbody>\n",
       "    <tr>\n",
       "      <th>0</th>\n",
       "      <td>107</td>\n",
       "      <td>01~02</td>\n",
       "      <td>小葉菜類</td>\n",
       "      <td>青江菜</td>\n",
       "      <td>克凡派(Chlorfenapyr) 1.2 (1.0)</td>\n",
       "      <td>臺東縣</td>\n",
       "      <td>員川蔬菜號/臺東縣臺東市濟南街61巷180號</td>\n",
       "    </tr>\n",
       "    <tr>\n",
       "      <th>1</th>\n",
       "      <td>107</td>\n",
       "      <td>01~02</td>\n",
       "      <td>小葉菜類</td>\n",
       "      <td>油菜</td>\n",
       "      <td>阿巴汀(Abamectin) 0.07 (0.05)、因滅汀(Emamectin benzo...</td>\n",
       "      <td>臺東縣</td>\n",
       "      <td>勝雄果菜行/臺東縣臺東市光明路129號5樓</td>\n",
       "    </tr>\n",
       "    <tr>\n",
       "      <th>2</th>\n",
       "      <td>107</td>\n",
       "      <td>01~02</td>\n",
       "      <td>小葉菜類</td>\n",
       "      <td>油菜</td>\n",
       "      <td>賽滅寧(Cypermethrin) 7.8 (2.0)</td>\n",
       "      <td>基隆市</td>\n",
       "      <td>三兄弟生鮮蔬果行/基隆市中山區復興路93-6號</td>\n",
       "    </tr>\n",
       "    <tr>\n",
       "      <th>3</th>\n",
       "      <td>107</td>\n",
       "      <td>01~02</td>\n",
       "      <td>小葉菜類</td>\n",
       "      <td>油菜</td>\n",
       "      <td>白克列(Boscalid) 0.64 (不符使用規定)</td>\n",
       "      <td>花蓮縣</td>\n",
       "      <td>志康聯合超市股份有限公司(統冠光復店)/ 花蓮縣光復鄉大華村中山路2段315號</td>\n",
       "    </tr>\n",
       "    <tr>\n",
       "      <th>4</th>\n",
       "      <td>107</td>\n",
       "      <td>01~02</td>\n",
       "      <td>小葉菜類</td>\n",
       "      <td>芹菜</td>\n",
       "      <td>氟比來(Fluopicolide) 0.08 (不符使用規定)、普拔克(Propamocar...</td>\n",
       "      <td>桃園市</td>\n",
       "      <td>旺玖商行(利來福)/ 桃園市中壢區龍和一街235號</td>\n",
       "    </tr>\n",
       "  </tbody>\n",
       "</table>\n",
       "</div>"
      ],
      "text/plain": [
       "    年度     月份    分類 檢體名稱                                              農藥殘留量  \\\n",
       "0  107  01~02  小葉菜類  青江菜                        克凡派(Chlorfenapyr) 1.2 (1.0)   \n",
       "1  107  01~02  小葉菜類   油菜  阿巴汀(Abamectin) 0.07 (0.05)、因滅汀(Emamectin benzo...   \n",
       "2  107  01~02  小葉菜類   油菜                        賽滅寧(Cypermethrin) 7.8 (2.0)   \n",
       "3  107  01~02  小葉菜類   油菜                        白克列(Boscalid) 0.64 (不符使用規定)   \n",
       "4  107  01~02  小葉菜類   芹菜  氟比來(Fluopicolide) 0.08 (不符使用規定)、普拔克(Propamocar...   \n",
       "\n",
       "  抽樣衛生局                                     抽樣地點  \n",
       "0   臺東縣                   員川蔬菜號/臺東縣臺東市濟南街61巷180號  \n",
       "1   臺東縣                    勝雄果菜行/臺東縣臺東市光明路129號5樓  \n",
       "2   基隆市                  三兄弟生鮮蔬果行/基隆市中山區復興路93-6號  \n",
       "3   花蓮縣  志康聯合超市股份有限公司(統冠光復店)/ 花蓮縣光復鄉大華村中山路2段315號  \n",
       "4   桃園市                旺玖商行(利來福)/ 桃園市中壢區龍和一街235號  "
      ]
     },
     "execution_count": 5,
     "metadata": {},
     "output_type": "execute_result"
    }
   ],
   "source": [
    "df.head()"
   ]
  },
  {
   "cell_type": "code",
   "execution_count": 6,
   "metadata": {},
   "outputs": [],
   "source": [
    "df1=df.loc[:, '年度':'抽樣衛生局'].copy()"
   ]
  },
  {
   "cell_type": "code",
   "execution_count": 7,
   "metadata": {},
   "outputs": [
    {
     "data": {
      "text/html": [
       "<div>\n",
       "<style scoped>\n",
       "    .dataframe tbody tr th:only-of-type {\n",
       "        vertical-align: middle;\n",
       "    }\n",
       "\n",
       "    .dataframe tbody tr th {\n",
       "        vertical-align: top;\n",
       "    }\n",
       "\n",
       "    .dataframe thead th {\n",
       "        text-align: right;\n",
       "    }\n",
       "</style>\n",
       "<table border=\"1\" class=\"dataframe\">\n",
       "  <thead>\n",
       "    <tr style=\"text-align: right;\">\n",
       "      <th></th>\n",
       "      <th>年度</th>\n",
       "      <th>月份</th>\n",
       "      <th>分類</th>\n",
       "      <th>檢體名稱</th>\n",
       "      <th>農藥殘留量</th>\n",
       "      <th>抽樣衛生局</th>\n",
       "    </tr>\n",
       "  </thead>\n",
       "  <tbody>\n",
       "    <tr>\n",
       "      <th>0</th>\n",
       "      <td>107</td>\n",
       "      <td>01~02</td>\n",
       "      <td>小葉菜類</td>\n",
       "      <td>青江菜</td>\n",
       "      <td>克凡派(Chlorfenapyr) 1.2 (1.0)</td>\n",
       "      <td>臺東縣</td>\n",
       "    </tr>\n",
       "    <tr>\n",
       "      <th>1</th>\n",
       "      <td>107</td>\n",
       "      <td>01~02</td>\n",
       "      <td>小葉菜類</td>\n",
       "      <td>油菜</td>\n",
       "      <td>阿巴汀(Abamectin) 0.07 (0.05)、因滅汀(Emamectin benzo...</td>\n",
       "      <td>臺東縣</td>\n",
       "    </tr>\n",
       "    <tr>\n",
       "      <th>2</th>\n",
       "      <td>107</td>\n",
       "      <td>01~02</td>\n",
       "      <td>小葉菜類</td>\n",
       "      <td>油菜</td>\n",
       "      <td>賽滅寧(Cypermethrin) 7.8 (2.0)</td>\n",
       "      <td>基隆市</td>\n",
       "    </tr>\n",
       "    <tr>\n",
       "      <th>3</th>\n",
       "      <td>107</td>\n",
       "      <td>01~02</td>\n",
       "      <td>小葉菜類</td>\n",
       "      <td>油菜</td>\n",
       "      <td>白克列(Boscalid) 0.64 (不符使用規定)</td>\n",
       "      <td>花蓮縣</td>\n",
       "    </tr>\n",
       "    <tr>\n",
       "      <th>4</th>\n",
       "      <td>107</td>\n",
       "      <td>01~02</td>\n",
       "      <td>小葉菜類</td>\n",
       "      <td>芹菜</td>\n",
       "      <td>氟比來(Fluopicolide) 0.08 (不符使用規定)、普拔克(Propamocar...</td>\n",
       "      <td>桃園市</td>\n",
       "    </tr>\n",
       "  </tbody>\n",
       "</table>\n",
       "</div>"
      ],
      "text/plain": [
       "    年度     月份    分類 檢體名稱                                              農藥殘留量  \\\n",
       "0  107  01~02  小葉菜類  青江菜                        克凡派(Chlorfenapyr) 1.2 (1.0)   \n",
       "1  107  01~02  小葉菜類   油菜  阿巴汀(Abamectin) 0.07 (0.05)、因滅汀(Emamectin benzo...   \n",
       "2  107  01~02  小葉菜類   油菜                        賽滅寧(Cypermethrin) 7.8 (2.0)   \n",
       "3  107  01~02  小葉菜類   油菜                        白克列(Boscalid) 0.64 (不符使用規定)   \n",
       "4  107  01~02  小葉菜類   芹菜  氟比來(Fluopicolide) 0.08 (不符使用規定)、普拔克(Propamocar...   \n",
       "\n",
       "  抽樣衛生局  \n",
       "0   臺東縣  \n",
       "1   臺東縣  \n",
       "2   基隆市  \n",
       "3   花蓮縣  \n",
       "4   桃園市  "
      ]
     },
     "execution_count": 7,
     "metadata": {},
     "output_type": "execute_result"
    }
   ],
   "source": [
    "df1.head()"
   ]
  },
  {
   "cell_type": "code",
   "execution_count": 10,
   "metadata": {},
   "outputs": [],
   "source": [
    "df2=df1[(df1['農藥殘留量'] != '合格')]"
   ]
  },
  {
   "cell_type": "code",
   "execution_count": 11,
   "metadata": {},
   "outputs": [
    {
     "data": {
      "text/html": [
       "<div>\n",
       "<style scoped>\n",
       "    .dataframe tbody tr th:only-of-type {\n",
       "        vertical-align: middle;\n",
       "    }\n",
       "\n",
       "    .dataframe tbody tr th {\n",
       "        vertical-align: top;\n",
       "    }\n",
       "\n",
       "    .dataframe thead th {\n",
       "        text-align: right;\n",
       "    }\n",
       "</style>\n",
       "<table border=\"1\" class=\"dataframe\">\n",
       "  <thead>\n",
       "    <tr style=\"text-align: right;\">\n",
       "      <th></th>\n",
       "      <th>年度</th>\n",
       "      <th>月份</th>\n",
       "      <th>分類</th>\n",
       "      <th>檢體名稱</th>\n",
       "      <th>農藥殘留量</th>\n",
       "      <th>抽樣衛生局</th>\n",
       "    </tr>\n",
       "  </thead>\n",
       "  <tbody>\n",
       "    <tr>\n",
       "      <th>0</th>\n",
       "      <td>107</td>\n",
       "      <td>01~02</td>\n",
       "      <td>小葉菜類</td>\n",
       "      <td>青江菜</td>\n",
       "      <td>克凡派(Chlorfenapyr) 1.2 (1.0)</td>\n",
       "      <td>臺東縣</td>\n",
       "    </tr>\n",
       "    <tr>\n",
       "      <th>1</th>\n",
       "      <td>107</td>\n",
       "      <td>01~02</td>\n",
       "      <td>小葉菜類</td>\n",
       "      <td>油菜</td>\n",
       "      <td>阿巴汀(Abamectin) 0.07 (0.05)、因滅汀(Emamectin benzo...</td>\n",
       "      <td>臺東縣</td>\n",
       "    </tr>\n",
       "    <tr>\n",
       "      <th>2</th>\n",
       "      <td>107</td>\n",
       "      <td>01~02</td>\n",
       "      <td>小葉菜類</td>\n",
       "      <td>油菜</td>\n",
       "      <td>賽滅寧(Cypermethrin) 7.8 (2.0)</td>\n",
       "      <td>基隆市</td>\n",
       "    </tr>\n",
       "    <tr>\n",
       "      <th>3</th>\n",
       "      <td>107</td>\n",
       "      <td>01~02</td>\n",
       "      <td>小葉菜類</td>\n",
       "      <td>油菜</td>\n",
       "      <td>白克列(Boscalid) 0.64 (不符使用規定)</td>\n",
       "      <td>花蓮縣</td>\n",
       "    </tr>\n",
       "    <tr>\n",
       "      <th>4</th>\n",
       "      <td>107</td>\n",
       "      <td>01~02</td>\n",
       "      <td>小葉菜類</td>\n",
       "      <td>芹菜</td>\n",
       "      <td>氟比來(Fluopicolide) 0.08 (不符使用規定)、普拔克(Propamocar...</td>\n",
       "      <td>桃園市</td>\n",
       "    </tr>\n",
       "  </tbody>\n",
       "</table>\n",
       "</div>"
      ],
      "text/plain": [
       "    年度     月份    分類 檢體名稱                                              農藥殘留量  \\\n",
       "0  107  01~02  小葉菜類  青江菜                        克凡派(Chlorfenapyr) 1.2 (1.0)   \n",
       "1  107  01~02  小葉菜類   油菜  阿巴汀(Abamectin) 0.07 (0.05)、因滅汀(Emamectin benzo...   \n",
       "2  107  01~02  小葉菜類   油菜                        賽滅寧(Cypermethrin) 7.8 (2.0)   \n",
       "3  107  01~02  小葉菜類   油菜                        白克列(Boscalid) 0.64 (不符使用規定)   \n",
       "4  107  01~02  小葉菜類   芹菜  氟比來(Fluopicolide) 0.08 (不符使用規定)、普拔克(Propamocar...   \n",
       "\n",
       "  抽樣衛生局  \n",
       "0   臺東縣  \n",
       "1   臺東縣  \n",
       "2   基隆市  \n",
       "3   花蓮縣  \n",
       "4   桃園市  "
      ]
     },
     "execution_count": 11,
     "metadata": {},
     "output_type": "execute_result"
    }
   ],
   "source": [
    "df2.head()"
   ]
  },
  {
   "cell_type": "code",
   "execution_count": 12,
   "metadata": {},
   "outputs": [],
   "source": [
    "df3=df2['抽樣衛生局'].value_counts()"
   ]
  },
  {
   "cell_type": "code",
   "execution_count": 13,
   "metadata": {},
   "outputs": [
    {
     "data": {
      "text/plain": [
       "臺中市    36\n",
       "臺北市    34\n",
       "桃園市    30\n",
       "花蓮縣    30\n",
       "澎湖縣    30\n",
       "苗栗縣    29\n",
       "屏東縣    29\n",
       "彰化縣    28\n",
       "南投縣    27\n",
       "新竹市    25\n",
       "基隆市    24\n",
       "宜蘭縣    23\n",
       "新北市    22\n",
       "臺東縣    21\n",
       "金門縣    21\n",
       "高雄市    17\n",
       "新竹縣    16\n",
       "嘉義市    13\n",
       "雲林縣    11\n",
       "嘉義縣     9\n",
       "臺南市     8\n",
       "連江縣     7\n",
       "Name: 抽樣衛生局, dtype: int64"
      ]
     },
     "execution_count": 13,
     "metadata": {},
     "output_type": "execute_result"
    }
   ],
   "source": [
    "df3"
   ]
  },
  {
   "cell_type": "code",
   "execution_count": 14,
   "metadata": {},
   "outputs": [],
   "source": [
    "df4=df1[(df1['農藥殘留量'] == '合格')]"
   ]
  },
  {
   "cell_type": "code",
   "execution_count": 15,
   "metadata": {},
   "outputs": [],
   "source": [
    "df5=df4['抽樣衛生局'].value_counts()"
   ]
  },
  {
   "cell_type": "code",
   "execution_count": 16,
   "metadata": {},
   "outputs": [
    {
     "data": {
      "text/plain": [
       "臺北市    360\n",
       "高雄市    332\n",
       "新北市    259\n",
       "宜蘭縣    222\n",
       "臺南市    210\n",
       "雲林縣    205\n",
       "桃園市    200\n",
       "臺中市    195\n",
       "嘉義市    162\n",
       "新竹縣    159\n",
       "臺東縣    158\n",
       "屏東縣    157\n",
       "彰化縣    157\n",
       "基隆市    155\n",
       "南投縣    152\n",
       "嘉義縣    147\n",
       "花蓮縣    145\n",
       "新竹市    142\n",
       "苗栗縣    136\n",
       "澎湖縣    114\n",
       "連江縣    108\n",
       "金門縣    103\n",
       "Name: 抽樣衛生局, dtype: int64"
      ]
     },
     "execution_count": 16,
     "metadata": {},
     "output_type": "execute_result"
    }
   ],
   "source": [
    "df5"
   ]
  },
  {
   "cell_type": "code",
   "execution_count": 19,
   "metadata": {},
   "outputs": [],
   "source": [
    "df6= df3/df5"
   ]
  },
  {
   "cell_type": "code",
   "execution_count": 20,
   "metadata": {},
   "outputs": [
    {
     "data": {
      "text/plain": [
       "南投縣    0.177632\n",
       "嘉義市    0.080247\n",
       "嘉義縣    0.061224\n",
       "基隆市    0.154839\n",
       "宜蘭縣    0.103604\n",
       "屏東縣    0.184713\n",
       "彰化縣    0.178344\n",
       "新北市    0.084942\n",
       "新竹市    0.176056\n",
       "新竹縣    0.100629\n",
       "桃園市    0.150000\n",
       "澎湖縣    0.263158\n",
       "臺中市    0.184615\n",
       "臺北市    0.094444\n",
       "臺南市    0.038095\n",
       "臺東縣    0.132911\n",
       "花蓮縣    0.206897\n",
       "苗栗縣    0.213235\n",
       "連江縣    0.064815\n",
       "金門縣    0.203883\n",
       "雲林縣    0.053659\n",
       "高雄市    0.051205\n",
       "Name: 抽樣衛生局, dtype: float64"
      ]
     },
     "execution_count": 20,
     "metadata": {},
     "output_type": "execute_result"
    }
   ],
   "source": [
    "df6"
   ]
  },
  {
   "cell_type": "code",
   "execution_count": 26,
   "metadata": {},
   "outputs": [
    {
     "name": "stdout",
     "output_type": "stream",
     "text": [
      "        抽樣衛生局\n",
      "南投縣  0.177632\n",
      "嘉義市  0.080247\n",
      "嘉義縣  0.061224\n",
      "基隆市  0.154839\n",
      "宜蘭縣  0.103604\n",
      "屏東縣  0.184713\n",
      "彰化縣  0.178344\n",
      "新北市  0.084942\n",
      "新竹市  0.176056\n",
      "新竹縣  0.100629\n",
      "桃園市  0.150000\n",
      "澎湖縣  0.263158\n",
      "臺中市  0.184615\n",
      "臺北市  0.094444\n",
      "臺南市  0.038095\n",
      "臺東縣  0.132911\n",
      "花蓮縣  0.206897\n",
      "苗栗縣  0.213235\n",
      "連江縣  0.064815\n",
      "金門縣  0.203883\n",
      "雲林縣  0.053659\n",
      "高雄市  0.051205\n"
     ]
    }
   ],
   "source": [
    "df7=pd.DataFrame(df6)\n",
    "print(df7)"
   ]
  },
  {
   "cell_type": "code",
   "execution_count": 27,
   "metadata": {},
   "outputs": [
    {
     "data": {
      "text/plain": [
       "array(['抽樣衛生局'], dtype=object)"
      ]
     },
     "execution_count": 27,
     "metadata": {},
     "output_type": "execute_result"
    }
   ],
   "source": [
    "df7.columns.values"
   ]
  },
  {
   "cell_type": "code",
   "execution_count": 35,
   "metadata": {},
   "outputs": [
    {
     "data": {
      "text/html": [
       "<div>\n",
       "<style scoped>\n",
       "    .dataframe tbody tr th:only-of-type {\n",
       "        vertical-align: middle;\n",
       "    }\n",
       "\n",
       "    .dataframe tbody tr th {\n",
       "        vertical-align: top;\n",
       "    }\n",
       "\n",
       "    .dataframe thead th {\n",
       "        text-align: right;\n",
       "    }\n",
       "</style>\n",
       "<table border=\"1\" class=\"dataframe\">\n",
       "  <thead>\n",
       "    <tr style=\"text-align: right;\">\n",
       "      <th></th>\n",
       "      <th>Pesticide residue rate</th>\n",
       "    </tr>\n",
       "  </thead>\n",
       "  <tbody>\n",
       "    <tr>\n",
       "      <th>南投縣</th>\n",
       "      <td>0.177632</td>\n",
       "    </tr>\n",
       "    <tr>\n",
       "      <th>嘉義市</th>\n",
       "      <td>0.080247</td>\n",
       "    </tr>\n",
       "    <tr>\n",
       "      <th>嘉義縣</th>\n",
       "      <td>0.061224</td>\n",
       "    </tr>\n",
       "    <tr>\n",
       "      <th>基隆市</th>\n",
       "      <td>0.154839</td>\n",
       "    </tr>\n",
       "    <tr>\n",
       "      <th>宜蘭縣</th>\n",
       "      <td>0.103604</td>\n",
       "    </tr>\n",
       "    <tr>\n",
       "      <th>屏東縣</th>\n",
       "      <td>0.184713</td>\n",
       "    </tr>\n",
       "    <tr>\n",
       "      <th>彰化縣</th>\n",
       "      <td>0.178344</td>\n",
       "    </tr>\n",
       "    <tr>\n",
       "      <th>新北市</th>\n",
       "      <td>0.084942</td>\n",
       "    </tr>\n",
       "    <tr>\n",
       "      <th>新竹市</th>\n",
       "      <td>0.176056</td>\n",
       "    </tr>\n",
       "    <tr>\n",
       "      <th>新竹縣</th>\n",
       "      <td>0.100629</td>\n",
       "    </tr>\n",
       "    <tr>\n",
       "      <th>桃園市</th>\n",
       "      <td>0.150000</td>\n",
       "    </tr>\n",
       "    <tr>\n",
       "      <th>澎湖縣</th>\n",
       "      <td>0.263158</td>\n",
       "    </tr>\n",
       "    <tr>\n",
       "      <th>臺中市</th>\n",
       "      <td>0.184615</td>\n",
       "    </tr>\n",
       "    <tr>\n",
       "      <th>臺北市</th>\n",
       "      <td>0.094444</td>\n",
       "    </tr>\n",
       "    <tr>\n",
       "      <th>臺南市</th>\n",
       "      <td>0.038095</td>\n",
       "    </tr>\n",
       "    <tr>\n",
       "      <th>臺東縣</th>\n",
       "      <td>0.132911</td>\n",
       "    </tr>\n",
       "    <tr>\n",
       "      <th>花蓮縣</th>\n",
       "      <td>0.206897</td>\n",
       "    </tr>\n",
       "    <tr>\n",
       "      <th>苗栗縣</th>\n",
       "      <td>0.213235</td>\n",
       "    </tr>\n",
       "    <tr>\n",
       "      <th>連江縣</th>\n",
       "      <td>0.064815</td>\n",
       "    </tr>\n",
       "    <tr>\n",
       "      <th>金門縣</th>\n",
       "      <td>0.203883</td>\n",
       "    </tr>\n",
       "    <tr>\n",
       "      <th>雲林縣</th>\n",
       "      <td>0.053659</td>\n",
       "    </tr>\n",
       "    <tr>\n",
       "      <th>高雄市</th>\n",
       "      <td>0.051205</td>\n",
       "    </tr>\n",
       "  </tbody>\n",
       "</table>\n",
       "</div>"
      ],
      "text/plain": [
       "     Pesticide residue rate\n",
       "南投縣                0.177632\n",
       "嘉義市                0.080247\n",
       "嘉義縣                0.061224\n",
       "基隆市                0.154839\n",
       "宜蘭縣                0.103604\n",
       "屏東縣                0.184713\n",
       "彰化縣                0.178344\n",
       "新北市                0.084942\n",
       "新竹市                0.176056\n",
       "新竹縣                0.100629\n",
       "桃園市                0.150000\n",
       "澎湖縣                0.263158\n",
       "臺中市                0.184615\n",
       "臺北市                0.094444\n",
       "臺南市                0.038095\n",
       "臺東縣                0.132911\n",
       "花蓮縣                0.206897\n",
       "苗栗縣                0.213235\n",
       "連江縣                0.064815\n",
       "金門縣                0.203883\n",
       "雲林縣                0.053659\n",
       "高雄市                0.051205"
      ]
     },
     "execution_count": 35,
     "metadata": {},
     "output_type": "execute_result"
    }
   ],
   "source": [
    "df7 = df7.rename(columns={'抽樣衛生局': 'Pesticide residue rate'})\n",
    "df7"
   ]
  },
  {
   "cell_type": "code",
   "execution_count": null,
   "metadata": {},
   "outputs": [],
   "source": []
  }
 ],
 "metadata": {
  "kernelspec": {
   "display_name": "Python 3",
   "language": "python",
   "name": "python3"
  },
  "language_info": {
   "codemirror_mode": {
    "name": "ipython",
    "version": 3
   },
   "file_extension": ".py",
   "mimetype": "text/x-python",
   "name": "python",
   "nbconvert_exporter": "python",
   "pygments_lexer": "ipython3",
   "version": "3.6.5"
  }
 },
 "nbformat": 4,
 "nbformat_minor": 2
}
